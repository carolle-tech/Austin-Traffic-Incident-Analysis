{
 "cells": [
  {
   "cell_type": "markdown",
   "id": "c59073cc",
   "metadata": {},
   "source": [
    "Weather Data: https://www.visualcrossing.com/weather-data/\n",
    "\n",
    "Traffic Incident: https://data.austintexas.gov/Transportation-and-Mobility/Real-Time-Traffic-Incident-Reports/dx9v-zd7x/about_data"
   ]
  },
  {
   "cell_type": "markdown",
   "id": "7f95b261",
   "metadata": {},
   "source": [
    "# Classification Model"
   ]
  },
  {
   "cell_type": "markdown",
   "id": "550de9e6",
   "metadata": {},
   "source": [
    "Goal: Out of all the areas that have incidents recorded, which ones are high-risk, and which are low-risk?\n",
    "\n",
    "- Define high-risk (total incidents recorded for that area >1000, or 7 times a week)\n",
    "- Train a classifier\n",
    "- Evaluate using accuracy, precision, recall"
   ]
  },
  {
   "cell_type": "markdown",
   "id": "84c03b3f",
   "metadata": {},
   "source": [
    "# Read in Data"
   ]
  },
  {
   "cell_type": "code",
   "execution_count": 1,
   "id": "56cb6141",
   "metadata": {},
   "outputs": [
    {
     "name": "stderr",
     "output_type": "stream",
     "text": [
      "/Users/carolle/anaconda3/lib/python3.10/site-packages/pandas/core/arrays/masked.py:60: UserWarning: Pandas requires version '1.3.6' or newer of 'bottleneck' (version '1.3.5' currently installed).\n",
      "  from pandas.core import (\n"
     ]
    }
   ],
   "source": [
    "import pandas as pd\n",
    "\n",
    "incident = pd.read_csv('Traffic_Incident_Reports.csv')\n",
    "incident['Date'] = pd.to_datetime(incident['Date'])\n",
    "incident = incident[(incident['Latitude'] < 300) & (incident['Longitude'] < -10) & (incident['Date'] >= '2022-05-01') & (incident['Date'] <= '2024-12-11')]\n",
    "\n",
    "weather = pd.read_csv('Austin_Weather_20220501_20241211.csv')\n",
    "weather['datetime'] = pd.to_datetime(weather['datetime'])\n",
    "\n",
    "traffic = incident.merge(weather, left_on='Date', right_on='datetime', how='left')"
   ]
  },
  {
   "cell_type": "markdown",
   "id": "51cb1903",
   "metadata": {},
   "source": [
    "# Define \"high-risk\""
   ]
  },
  {
   "cell_type": "code",
   "execution_count": 2,
   "id": "7ea90792",
   "metadata": {},
   "outputs": [
    {
     "name": "stderr",
     "output_type": "stream",
     "text": [
      "/Users/carolle/anaconda3/lib/python3.10/site-packages/sklearn/cluster/_kmeans.py:870: FutureWarning: The default value of `n_init` will change from 10 to 'auto' in 1.4. Set the value of `n_init` explicitly to suppress the warning\n",
      "  warnings.warn(\n"
     ]
    }
   ],
   "source": [
    "from sklearn.preprocessing import StandardScaler\n",
    "from sklearn.cluster import KMeans\n",
    "\n",
    "# Location clusters using Kmeans\n",
    "coords = traffic[['Latitude', 'Longitude']]\n",
    "kmeans = KMeans(n_clusters=50, random_state=1).fit(coords)\n",
    "traffic['location_cluster'] = kmeans.labels_\n",
    "\n",
    "# Define high-risk\n",
    "cluster_counts = traffic['location_cluster'].value_counts()\n",
    "high_risk_clusters = cluster_counts[cluster_counts > 1000].index\n",
    "traffic['highrisk'] = traffic['location_cluster'].apply(lambda x: 1 if x in high_risk_clusters else 0)"
   ]
  },
  {
   "cell_type": "markdown",
   "id": "78cd3186",
   "metadata": {},
   "source": [
    "### Visualize clusters/areas"
   ]
  },
  {
   "cell_type": "code",
   "execution_count": null,
   "id": "87fedb44",
   "metadata": {},
   "outputs": [],
   "source": [
    "import matplotlib.pyplot as plt\n",
    "\n",
    "plt.figure(figsize=(6, 4))\n",
    "for cluster_id in sorted(traffic['location_cluster'].unique()):\n",
    "    cluster_data = traffic[traffic['location_cluster'] == cluster_id]\n",
    "    plt.scatter(cluster_data['Longitude'], cluster_data['Latitude'], s=5, label=f'Cluster {cluster_id}', alpha=0.6)\n",
    "\n",
    "centroids = kmeans.cluster_centers_\n",
    "for i, (lat, lon) in enumerate(centroids):\n",
    "    plt.text(lon, lat, str(i), fontsize=5, fontweight='bold', color='black', ha='center', va='center')\n",
    "\n",
    "plt.xlabel('Longitude')\n",
    "plt.ylabel('Latitude')\n",
    "plt.grid(True, linestyle='--', linewidth=0.3, alpha=0.8)\n",
    "plt.title('Geographic Clusters of Incidents in Austin')\n",
    "#plt.savefig('old', dpi=300, bbox_inches='tight')  # <-- This line saves the image\n"
   ]
  },
  {
   "cell_type": "code",
   "execution_count": null,
   "id": "373b10bc",
   "metadata": {},
   "outputs": [],
   "source": [
    "import matplotlib.pyplot as plt\n",
    "from matplotlib.patches import Patch\n",
    "\n",
    "plt.figure(figsize=(6, 4))\n",
    "\n",
    "# Plot clusters with light red for high-risk and light blue for low-risk\n",
    "for cluster_id in sorted(traffic['location_cluster'].unique()):\n",
    "    cluster_data = traffic[traffic['location_cluster'] == cluster_id]\n",
    "    color = 'lightcoral' if cluster_id in high_risk_clusters else 'lightblue'\n",
    "    plt.scatter(cluster_data['Longitude'], cluster_data['Latitude'], \n",
    "                s=5, color=color, alpha=0.6)\n",
    "\n",
    "# Plot centroids with cluster labels\n",
    "centroids = kmeans.cluster_centers_\n",
    "for i, (lat, lon) in enumerate(centroids):\n",
    "    plt.text(lon, lat, str(i), fontsize=5, fontweight='bold', color='black', ha='center', va='center')\n",
    "\n",
    "# Custom legend\n",
    "legend_elements = [\n",
    "    Patch(facecolor='lightcoral', label='High-Risk'),\n",
    "    Patch(facecolor='lightblue', label='Low-Risk')\n",
    "]\n",
    "plt.legend(handles=legend_elements, loc='upper right')\n",
    "\n",
    "plt.xlabel('Longitude')\n",
    "plt.ylabel('Latitude')\n",
    "plt.grid(True, linestyle='--', linewidth=0.3, alpha=0.8)\n",
    "plt.title('Geographic Clusters of Incidents in Austin')\n",
    "#plt.savefig('new', dpi=300, bbox_inches='tight')  # <-- This line saves the image\n",
    "plt.show()\n"
   ]
  },
  {
   "cell_type": "markdown",
   "id": "905a82a9",
   "metadata": {},
   "source": [
    "### Some things to double check"
   ]
  },
  {
   "cell_type": "code",
   "execution_count": null,
   "id": "2f4e1f20",
   "metadata": {
    "scrolled": true
   },
   "outputs": [],
   "source": [
    "cluster_counts"
   ]
  },
  {
   "cell_type": "code",
   "execution_count": null,
   "id": "ec606415",
   "metadata": {},
   "outputs": [],
   "source": [
    "traffic['highrisk'].value_counts()"
   ]
  },
  {
   "cell_type": "code",
   "execution_count": null,
   "id": "cdbfb6bb",
   "metadata": {},
   "outputs": [],
   "source": [
    "centroids"
   ]
  },
  {
   "cell_type": "markdown",
   "id": "5680f3e5",
   "metadata": {},
   "source": [
    "# Models"
   ]
  },
  {
   "cell_type": "code",
   "execution_count": 4,
   "id": "662f9b17",
   "metadata": {},
   "outputs": [
    {
     "data": {
      "text/html": [
       "<div>\n",
       "<style scoped>\n",
       "    .dataframe tbody tr th:only-of-type {\n",
       "        vertical-align: middle;\n",
       "    }\n",
       "\n",
       "    .dataframe tbody tr th {\n",
       "        vertical-align: top;\n",
       "    }\n",
       "\n",
       "    .dataframe thead th {\n",
       "        text-align: right;\n",
       "    }\n",
       "</style>\n",
       "<table border=\"1\" class=\"dataframe\">\n",
       "  <thead>\n",
       "    <tr style=\"text-align: right;\">\n",
       "      <th></th>\n",
       "      <th>Training Accuracy</th>\n",
       "      <th>Test Accuracy</th>\n",
       "    </tr>\n",
       "  </thead>\n",
       "  <tbody>\n",
       "    <tr>\n",
       "      <th>Decision Tree</th>\n",
       "      <td>0.92198</td>\n",
       "      <td>0.923962</td>\n",
       "    </tr>\n",
       "    <tr>\n",
       "      <th>Bagging</th>\n",
       "      <td>0.92198</td>\n",
       "      <td>0.923962</td>\n",
       "    </tr>\n",
       "    <tr>\n",
       "      <th>Random Forest</th>\n",
       "      <td>0.92198</td>\n",
       "      <td>0.923962</td>\n",
       "    </tr>\n",
       "    <tr>\n",
       "      <th>Gradient Boosting</th>\n",
       "      <td>0.92198</td>\n",
       "      <td>0.923962</td>\n",
       "    </tr>\n",
       "  </tbody>\n",
       "</table>\n",
       "</div>"
      ],
      "text/plain": [
       "                   Training Accuracy  Test Accuracy\n",
       "Decision Tree                0.92198       0.923962\n",
       "Bagging                      0.92198       0.923962\n",
       "Random Forest                0.92198       0.923962\n",
       "Gradient Boosting            0.92198       0.923962"
      ]
     },
     "execution_count": 4,
     "metadata": {},
     "output_type": "execute_result"
    }
   ],
   "source": [
    "# Features\n",
    "traffic['hour'] = traffic['Date'].dt.hour\n",
    "traffic['day_of_week'] = traffic['Date'].dt.dayofweek\n",
    "traffic['month'] = traffic['Date'].dt.month\n",
    "traffic['rush_hour'] = traffic['hour'].apply(lambda x: 1 if 20 <= x <= 23 else 0)  #7<=x<=9 or 16<=x<=18\n",
    "traffic['AM'] = traffic['AM/PM'].apply(lambda x: 1 if 'AM' else 0)\n",
    "\n",
    "# Set X, y\n",
    "X = traffic[['rush_hour', 'hour', 'day_of_week', 'month', 'AM', 'temp', 'humidity', 'precip', 'windspeed', 'cloudcover', 'visibility']]\n",
    "y = traffic['highrisk']\n",
    "\n",
    "# Fit models\n",
    "from sklearn import tree\n",
    "from sklearn.model_selection import train_test_split\n",
    "from sklearn.ensemble import BaggingClassifier, RandomForestClassifier, GradientBoostingClassifier\n",
    "from sklearn.metrics import classification_report\n",
    "from sklearn import metrics\n",
    "from pandas import DataFrame\n",
    "\n",
    "X_train, X_test, y_train, y_test = train_test_split(X, y, test_size=0.3, random_state=1)\n",
    "\n",
    "models = {\n",
    "    'Decision Tree': tree.DecisionTreeClassifier(criterion='entropy'),\n",
    "    'Bagging': BaggingClassifier(tree.DecisionTreeClassifier(criterion='entropy'), random_state=1),\n",
    "    'Random Forest': RandomForestClassifier(n_estimators=10, random_state=1),\n",
    "    'Gradient Boosting': GradientBoostingClassifier(n_estimators=200, max_depth=4, random_state=1)    }\n",
    "\n",
    "for name, model in models.items():\n",
    "    model.fit(X_train, y_train)\n",
    "\n",
    "# Evaluate\n",
    "accuracy_train = {}\n",
    "accuracy_test = {}\n",
    "\n",
    "for name, model in models.items():\n",
    "    prediction_train = model.predict(X_train)\n",
    "    accuracy_train[name] = metrics.accuracy_score(y_train, prediction_train)\n",
    "\n",
    "    prediction_test = model.predict(X_test)\n",
    "    accuracy_test[name] = metrics.accuracy_score(y_test, prediction_test)\n",
    "\n",
    "#pd.Series(prediction_test).value_counts()\n",
    "    \n",
    "# Output\n",
    "result = DataFrame({'Training Accuracy': accuracy_train,\n",
    "                    'Test Accuracy': accuracy_test  })\n",
    "result\n",
    "#print(classification_report(y_test, prediction_test))"
   ]
  },
  {
   "cell_type": "markdown",
   "id": "dadf7bce",
   "metadata": {},
   "source": [
    "### What's the optimal n_estimators (number of trees)?"
   ]
  },
  {
   "cell_type": "code",
   "execution_count": null,
   "id": "4a6cab3d",
   "metadata": {},
   "outputs": [],
   "source": [
    "from pandas import Series, DataFrame\n",
    "import matplotlib.pyplot as plt\n",
    "\n",
    "scores = {}\n",
    "for num_trees in [50, 100, 200, 300, 400]:\n",
    "    model = GradientBoostingClassifier(n_estimators=num_trees,\n",
    "                                       max_depth=4,\n",
    "                                       random_state=1)\n",
    "    model.fit(X_train, y_train)\n",
    "    prediction_test = model.predict(X_test)\n",
    "    accuracy_test = metrics.accuracy_score(y_test, prediction_test)\n",
    "    scores[num_trees] = accuracy_test\n",
    "Series(scores).sort_index().plot()\n",
    "plt.xlabel('Number of trees in ensemble')\n",
    "plt.ylabel('Test accuracy')"
   ]
  },
  {
   "cell_type": "markdown",
   "id": "3f66cb16",
   "metadata": {},
   "source": [
    "### What's the optimal max_depth of each tree?"
   ]
  },
  {
   "cell_type": "code",
   "execution_count": null,
   "id": "1641a4ea",
   "metadata": {},
   "outputs": [],
   "source": [
    "scores = {}\n",
    "for depth in range(1, 11):\n",
    "    model = GradientBoostingClassifier(n_estimators=200,\n",
    "                                       max_depth=depth,\n",
    "                                       random_state=1)\n",
    "    model.fit(X_train, y_train)\n",
    "    prediction_test = model.predict(X_test)\n",
    "    accuracy_test = metrics.accuracy_score(y_test, prediction_test)\n",
    "    scores[depth] = accuracy_test\n",
    "Series(scores).sort_index().plot()\n",
    "plt.xlabel('Depth of trees in ensemble')\n",
    "plt.ylabel('Test accuracy')"
   ]
  },
  {
   "cell_type": "markdown",
   "id": "514cb7b0",
   "metadata": {},
   "source": [
    "# Precision, Recall"
   ]
  },
  {
   "cell_type": "code",
   "execution_count": null,
   "id": "170f58a3",
   "metadata": {},
   "outputs": [],
   "source": [
    "from sklearn.metrics import precision_recall_curve\n",
    "\n",
    "for index, (name, model) in enumerate(models.items()):\n",
    "    predictions = model.predict_proba(X_test)\n",
    "    precision, recall, thresholds = precision_recall_curve(y_test, predictions[:, 1])\n",
    "    plt.plot(recall, precision, label=name)\n",
    "\n",
    "plt.xlabel('Recall')\n",
    "plt.ylabel('Precision')\n",
    "plt.legend(loc='best')"
   ]
  }
 ],
 "metadata": {
  "kernelspec": {
   "display_name": "Python 3 (ipykernel)",
   "language": "python",
   "name": "python3"
  },
  "language_info": {
   "codemirror_mode": {
    "name": "ipython",
    "version": 3
   },
   "file_extension": ".py",
   "mimetype": "text/x-python",
   "name": "python",
   "nbconvert_exporter": "python",
   "pygments_lexer": "ipython3",
   "version": "3.10.9"
  }
 },
 "nbformat": 4,
 "nbformat_minor": 5
}
